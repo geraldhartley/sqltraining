{
    "metadata": {
        "kernelspec": {
            "name": "SQL",
            "display_name": "SQL",
            "language": "sql"
        },
        "language_info": {
            "name": "sql",
            "version": ""
        }
    },
    "nbformat_minor": 2,
    "nbformat": 4,
    "cells": [
        {
            "cell_type": "markdown",
            "source": [
                "# Lab 1 - Dedupe & Eliminate (Sample Answers)\r\n",
                "\r\n",
                "## Step 0. Run sp_BlitzIndex"
            ],
            "metadata": {
                "azdata_cell_guid": "c79cba8e-2917-40ae-9015-3af78becaba6"
            }
        },
        {
            "cell_type": "code",
            "source": [
                "EXEC dbo.sp_BlitzIndex @DatabaseName='StackOverflow', @SchemaName='dbo', @TableName='Posts';"
            ],
            "metadata": {
                "azdata_cell_guid": "d3a6b133-952a-475b-a4eb-b68498808cf7"
            },
            "outputs": [],
            "execution_count": null
        },
        {
            "cell_type": "markdown",
            "source": [
                "<img src=\"C:\\Users\\hartleyg\\Desktop\\Training\\sqltraining\\Brent Ozar\\Mastering Index Tuning\\1.2 Lab - DEATH Method\\Lab1.1.png\" ></img>\r\n",
                "\r\n",
                "\r\n",
                "## Step 1. Eliminate Unused\r\n",
                "\r\n",
                "1. Hide the name column of the indexes. Only the names of they keys are important\r\n",
                "2. Review the Usage stats. Add change / undo scripts for the indexes that have 0 reads\r\n",
                "\r\n",
                "**Side Notes**\r\n",
                "\r\n",
                "    Q: In the case of duplicate indexes, we may find that one index is getting reads, and the other one isnt... how does SQL Server know which one to choose?\r\n",
                "    A: SQL Server can potentially use both, and could choose either one to use against different execution plans. These potentially compete with each other within the RAM cache, so the best idea is to delete it.\r\n",
                "    \r\n",
                "    Q: How do we choose which one to delete?\r\n",
                "    A: Keep the one with the better (most descriptive) index name\r\n",
                "\r\n",
                ""
            ],
            "metadata": {
                "azdata_cell_guid": "fc45f699-a1c7-4b62-be56-c3a079ec12a9"
            }
        },
        {
            "cell_type": "code",
            "source": [
                "/* Dropping this because it's a duplicate of IX_AcceptedAnswerId: */\r\n",
                "DROP INDEX dbo.Posts._dta_index_Posts_5_85575343__K2;\r\n",
                "\r\n",
                "/* Undo script: \r\n",
                "CREATE INDEX [_dta_index_Posts_5_85575343__K2] ON [dbo].[Posts] ( [AcceptedAnswerId] ) WITH (FILLFACTOR=100, ONLINE=?, SORT_IN_TEMPDB=?, DATA_COMPRESSION=?);\r\n",
                "*/\r\n",
                ""
            ],
            "metadata": {
                "azdata_cell_guid": "f842bae6-4ff2-414c-a79f-91dbf3112164"
            },
            "outputs": [],
            "execution_count": null
        },
        {
            "cell_type": "markdown",
            "source": [
                "## Step 1 - Drop Unused cont.\r\n",
                "\r\n",
                "Note that you can used a comma delimited list to drop multiple indexes"
            ],
            "metadata": {
                "azdata_cell_guid": "dadcaf99-11c4-47bf-a887-92709daf3563"
            }
        },
        {
            "cell_type": "code",
            "source": [
                "/* Drop these because they're unused: */\r\n",
                "DROP INDEX dbo.Posts.IX_LastActivityDate_Includes,\r\n",
                "dbo.Posts.IX_LastEditorUserId,\r\n",
                "dbo.Posts.IX_ParentId,\r\n",
                "dbo.Posts.IX_PostTypeId,\r\n",
                "dbo.Posts.IX_ViewCount_Includes;\r\n",
                "\r\n",
                "\r\n",
                "/* Undo script: \r\n",
                "CREATE INDEX [IX_LastActivityDate_Includes] ON [dbo].[Posts] ( [LastActivityDate] ) INCLUDE ( [ViewCount]) WITH (FILLFACTOR=100, ONLINE=?, SORT_IN_TEMPDB=?, DATA_COMPRESSION=?);\r\n",
                "CREATE INDEX [IX_LastEditorUserId] ON [dbo].[Posts] ( [LastEditorUserId] ) WITH (FILLFACTOR=100, ONLINE=?, SORT_IN_TEMPDB=?, DATA_COMPRESSION=?);\r\n",
                "CREATE INDEX [IX_ParentId] ON [dbo].[Posts] ( [ParentId] ) WITH (FILLFACTOR=100, ONLINE=?, SORT_IN_TEMPDB=?, DATA_COMPRESSION=?);\r\n",
                "CREATE INDEX [IX_PostTypeId] ON [dbo].[Posts] ( [PostTypeId] ) WITH (FILLFACTOR=100, ONLINE=?, SORT_IN_TEMPDB=?, DATA_COMPRESSION=?);\r\n",
                "CREATE INDEX [IX_ViewCount_Includes] ON [dbo].[Posts] ( [ViewCount] ) INCLUDE ( [LastActivityDate]) WITH (FILLFACTOR=100, ONLINE=?, SORT_IN_TEMPDB=?, DATA_COMPRESSION=?);\r\n",
                "*/\r\n",
                ""
            ],
            "metadata": {
                "azdata_cell_guid": "19d46008-854b-40d3-a89a-1584b17fc0d4"
            },
            "outputs": [],
            "execution_count": null
        },
        {
            "cell_type": "markdown",
            "source": [
                "## Step 2 - Deduplicate\r\n",
                "\r\n",
                "Now we can deduplicate indexes which are subsets for existing indexes.\r\n",
                "\r\n",
                "In this case, we have 2 indexes against the dbo.Posts table:\r\n",
                "\r\n",
                "    Index 1 Key Columns: AcceptedAnswerId\r\n",
                "    Index 2 Key Columns: AcceptedAnswerId, OwnerUserId\r\n",
                "\r\n",
                "Index 1 is a narrower subset of Index 1, so we can simply drop Index 1:"
            ],
            "metadata": {
                "azdata_cell_guid": "610a565a-2a37-41ac-b239-8371d1abb6df"
            }
        },
        {
            "cell_type": "code",
            "source": [
                "/* Dropping this because it's a narrower subset of dbo.Posts._dta_index_Posts_5_85575343__K2_K14 (4) */\r\n",
                "DROP INDEX dbo.Posts.IX_AcceptedAnswerId;\r\n",
                "GO\r\n",
                "\r\n",
                "/* Undo script: \r\n",
                "CREATE INDEX [IX_AcceptedAnswerId] ON [dbo].[Posts] ( [AcceptedAnswerId] ) WITH (FILLFACTOR=100, ONLINE=?, SORT_IN_TEMPDB=?, DATA_COMPRESSION=?);\r\n",
                "GO\r\n",
                "*/\r\n",
                "\r\n",
                "/* Dropping this because it's a narrower subset of these: dbo.Posts._dta_index_Posts_5_85575343__K14_K16_K7_K1_K2_17 (9)\r\n",
                "dbo.Posts._dta_index_Posts_5_85575343__K14_K16_K1_K2 (10) */\r\n",
                "DROP INDEX dbo.Posts.IX_OwnerUserId;\r\n",
                "GO\r\n",
                "\r\n",
                "/* Undo script:\r\n",
                "CREATE INDEX [IX_OwnerUserId] ON [dbo].[Posts] ( [OwnerUserId] ) WITH (FILLFACTOR=100, ONLINE=?, SORT_IN_TEMPDB=?, DATA_COMPRESSION=?);\r\n",
                "*/\r\n",
                "\r\n",
                ""
            ],
            "metadata": {
                "azdata_cell_guid": "19e9446f-4bbe-453c-be28-e0afe94d1f81"
            },
            "outputs": [],
            "execution_count": null
        },
        {
            "cell_type": "markdown",
            "source": [
                "## Step 3 - Harder Ones\r\n",
                "\r\n",
                "In our case, we've picked off the low-hanging fruit, and are now down to our recommended 5x5. Potentially we can stop here, unless there's a specific index at fault.\r\n",
                "\r\n",
                "In the following example, sql_blitz has identified a potential duplicate:\r\n",
                "\r\n",
                "<img src=\"C:\\Users\\hartleyg\\Desktop\\Training\\sqltraining\\Brent Ozar\\Mastering Index Tuning\\1.2 Lab - DEATH Method\\Lab1.2.png\"></img>\r\n",
                "\r\n",
                "In this case, Index 2 contains a narrower subset of columns from Index 1, but both indexes have reads against them. Why is that?\r\n",
                "\r\n",
                "Index 1 includes CommunityOwnedDate, Id, and AcceptedAnswerId *in that order*. Because these fields are part of the index key, the ordering of these two indexes will be vastly different. Each index may perform better across different execution plans.\r\n",
                "\r\n",
                "However if there's are acting up, we can investigate to see whether we can combine these indexes to provide enough coverage. This depends on the uniqueness of the leading columns, OwnerUserId and PostTypeId. Lets do a query to find the uniqueness of these fields:"
            ],
            "metadata": {
                "azdata_cell_guid": "5c1cb420-ba29-4051-9070-4d4c6e23c5e9"
            }
        },
        {
            "cell_type": "code",
            "source": [
                "SELECT TOP 100 OwnerUserId, PostTypeId, COUNT(*) AS recs\r\n",
                "FROM dbo.Posts\r\n",
                "GROUP BY OwnerUserId, PostTypeId\r\n",
                "ORDER BY COUNT(*) DESC;"
            ],
            "metadata": {
                "azdata_cell_guid": "6c4b4e96-5d1f-4d57-9900-415270bc3165",
                "tags": []
            },
            "outputs": [],
            "execution_count": null
        },
        {
            "cell_type": "markdown",
            "source": [
                "At a rough guess, if the maximum count is around 10,000, the index with just the two leading fields may be sufficient. However, our results tell a different story:\r\n",
                "\r\n",
                "<img src=\"C:\\Users\\hartleyg\\Desktop\\Training\\sqltraining\\Brent Ozar\\Mastering Index Tuning\\1.2 Lab - DEATH Method\\Lab1.3.png\"></img>\r\n",
                "\r\n",
                "The combination of OwnerUserId = 0 and PostTypeId = 1 returns A quarter of a million records! It would matter *a lot* if we were to dedupe these while someone was running with these parameters. \r\n",
                "\r\n",
                "If we really wanted to dig down, we'd to run through the steps from Fundamentals of Index Tuning, and start to trial certain index combinations, and measure logical reads, cpu, i/o etc.\r\n",
                "\r\n",
                "Lets continue our work for the dbo.Badges table:"
            ],
            "metadata": {
                "azdata_cell_guid": "ea896632-23a1-456a-b539-a309947b5a38"
            }
        },
        {
            "cell_type": "code",
            "source": [
                "EXEC dbo.sp_BlitzIndex @DatabaseName='StackOverflow', @SchemaName='dbo', @TableName='Badges';"
            ],
            "metadata": {
                "azdata_cell_guid": "23b48280-79f4-4fa7-b7c5-b863fbf112f5"
            },
            "outputs": [],
            "execution_count": null
        },
        {
            "cell_type": "markdown",
            "source": [
                "<img src=\"C:\\Users\\hartleyg\\Desktop\\Training\\sqltraining\\Brent Ozar\\Mastering Index Tuning\\1.2 Lab - DEATH Method\\Lab1.4.png\"></img>\r\n",
                "\r\n",
                "Already, we have a couple that we can get rid of: <br>\r\n",
                "- The non-clustered index that contains only Id is duplicated against the clustered index, and can be dropped. \r\n",
                "    - However, doing a COUNT(*) results in the optimizer using this index, as it's the smallest object which contains all rows. In this case, since our reads are 0, it's not required for our purpose\r\n",
                "- Badges has a wider index which uses UserId as its leading key column; the non-clustered index which contains only UserId can be dropped\r\n",
                ""
            ],
            "metadata": {
                "azdata_cell_guid": "53526b03-3757-40a4-8dc5-7297be516736"
            }
        },
        {
            "cell_type": "code",
            "source": [
                "\r\n",
                "/* Drop these because they're unused: */\r\n",
                "DROP INDEX dbo.Badges.IX_Id,\r\n",
                "dbo.Badges.IX_UserId;\r\n",
                "GO\r\n",
                "/* Undo script:\r\n",
                "CREATE INDEX [IX_Id] ON [dbo].[Badges] ( [Id] ) WITH (FILLFACTOR=100, ONLINE=?, SORT_IN_TEMPDB=?, DATA_COMPRESSION=?);\r\n",
                "CREATE INDEX [IX_UserId] ON [dbo].[Badges] ( [UserId] ) WITH (FILLFACTOR=100, ONLINE=?, SORT_IN_TEMPDB=?, DATA_COMPRESSION=?);\r\n",
                "*/\r\n",
                "\r\n",
                "\r\n",
                "\r\n",
                "EXEC dbo.sp_BlitzIndex @DatabaseName='StackOverflow', @SchemaName='dbo', @TableName='Comments';"
            ],
            "metadata": {
                "azdata_cell_guid": "5ad8699b-0958-4c03-8326-80d4038426e2"
            },
            "outputs": [],
            "execution_count": null
        }
    ]
}