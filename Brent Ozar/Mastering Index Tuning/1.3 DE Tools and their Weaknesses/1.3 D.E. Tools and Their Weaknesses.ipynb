{
    "metadata": {
        "kernelspec": {
            "name": "SQL",
            "display_name": "SQL",
            "language": "sql"
        },
        "language_info": {
            "name": "sql",
            "version": ""
        }
    },
    "nbformat_minor": 2,
    "nbformat": 4,
    "cells": [
        {
            "cell_type": "markdown",
            "source": [
                "# <b>DE Tools and their Weaknesses\r\n",
                "\r\n",
                ""
            ],
            "metadata": {
                "azdata_cell_guid": "55825c70-c7a5-456c-8ad8-f02b8e79294c"
            }
        },
        {
            "cell_type": "markdown",
            "source": [
                "### Dynamic Management Views (DMV's)\r\n",
                "\r\n",
                "- Good: \r\n",
                "    - well documented by MS and blogs\r\n",
                "    - easy to find scripts and tools that use them\r\n",
                "- Bad: \r\n",
                "    - User written doco is wrong\r\n",
                "    - misleading context\r\n",
                "    - contents can reset unexpectedly\r\n",
                "    - hit-or-miss coverage in Azure\r\n",
                "    - keeps changing\r\n",
                "\r\n",
                "- <b>sys.dm_db_index_usage_stats </b> (isnt really correct, stays around forever)\r\n",
                "\t- Shows # of executions where a plan included an operator (does NOT show if the operater was used, or how often it was accessed)\r\n",
                "\t- Number and last date of reads (seeks, scans, lookups)\r\n",
                "\t- Number and last date of last write (insert/update/deletes all called updates\r\n",
                "\t- Data is since startup or when the index was modified\r\n",
                "\r\n",
                "- <b>sys.dm_db_index_operational_stats </b>  (very correct when it's correct, but not sure when its cleared)\r\n",
                "\t- Lower level, more transitory\r\n",
                "\t- Lock waits (page and row)\r\n",
                "\t- Access counts (doesnt distingush between full scans / range scans, or even range scans and seeks)\r\n",
                "\t- Data only persisted while objects metadata is in memory\r\n",
                "\t- No good way to tell when it was last cleared "
            ],
            "metadata": {
                "azdata_cell_guid": "6f18fe43-481a-49fd-be92-135ca3729b8b"
            }
        },
        {
            "cell_type": "code",
            "source": [
                "USE StackOverflow;\r\n",
                "GO\r\n",
                "EXEC DropIndexes;\r\n",
                "GO\r\n",
                "CREATE INDEX IX_LastAccessDate ON dbo.Users(LastAccessDate);\r\n",
                "GO\r\n",
                "EXEC sp_BlitzIndex @SchemaName='dbo', @TableName='Users';\r\n",
                "GO\r\n",
                ""
            ],
            "metadata": {
                "azdata_cell_guid": "82125cb2-9126-4cb0-a701-c4a33027f9c6"
            },
            "outputs": [],
            "execution_count": null
        },
        {
            "cell_type": "markdown",
            "source": [
                "Note: We are running BlitzIndex at a Table level, which tells us:\r\n",
                "\r\n",
                "- What indexes we already have\r\n",
                "- What their names are, columns are\r\n",
                "- how many times they're being used\r\n",
                "\r\n",
                "<img src=\"C:\\Users\\hartleyg\\Desktop\\Training\\SQL Server\\Brent Ozar\\Mastering Index Tuning\\1.3.1.png\" width=800>\r\n",
                "\r\n",
                "We can see that we have 2 indexes at the moment - the Clustered Index (PK), and the non-clustered index we just created (on LastAccessDate)\r\n",
                "\r\n",
                "Notice the <b>Usage Stats</b> (query plan DMV) and <b>Operational Stats</b> (touchy feeley DMV) columns. These comes from <b>sys.dm_db_index_usage_stats</b> and <b>sys.dm_db_index_operational_stats</b>\r\n",
                "\r\n",
                "Now we run some queries an watch how they diverge. Look at the page reads for this query. Did it scan the whole index?"
            ],
            "metadata": {
                "azdata_cell_guid": "101c8dd0-7dc6-41d4-8b26-abf3e0efce54"
            }
        },
        {
            "cell_type": "code",
            "source": [
                "SET STATISTICS IO ON;\r\n",
                "GO\r\n",
                "SELECT TOP 10 Id\r\n",
                "FROM dbo.Users\r\n",
                "ORDER BY LastAccessDate;\r\n",
                "GO\r\n",
                "\r\n",
                "/* Can you tell if it's a bad scan from the index DMVs? */\r\n",
                "exec sp_BlitzIndex @SchemaName='dbo', @TableName='Users';\r\n",
                "GO\r\n",
                ""
            ],
            "metadata": {
                "azdata_cell_guid": "b0a865b0-b350-413b-a6eb-a5f652e4950f"
            },
            "outputs": [],
            "execution_count": null
        },
        {
            "cell_type": "markdown",
            "source": [
                "According to the code above, this should result in a Table Scan (given no WHERE clause defined):\r\n",
                "\r\n",
                "<img src=\"C:\\Users\\hartleyg\\Desktop\\Training\\SQL Server\\Brent Ozar\\Mastering Index Tuning\\1.3.2.png\" width=800>\r\n",
                "\r\n",
                "And indeed it does, but is it a good scan or a bad scan? We can't actually tell... Some may complain that the index is only getting used for 'scans', which is the wrong diagnostic. \r\n",
                "\r\n",
                "We want to know is if the index was being used. Both Usage and Op Stats agree that the index was being used\r\n",
                "\r\n",
                "Lets now reset the index usage statistics and run a new query"
            ],
            "metadata": {
                "azdata_cell_guid": "97a9ea53-e7e8-4d81-9e17-ded95cc0ca5d"
            }
        },
        {
            "cell_type": "code",
            "source": [
                "/* Reset the index usage statistics. Man, I wish there was an easier way to do this in 2016. */\r\n",
                "USE [master]\r\n",
                "GO\r\n",
                "ALTER DATABASE [StackOverflow] SET  OFFLINE WITH ROLLBACK IMMEDIATE;\r\n",
                "GO\r\n",
                "ALTER DATABASE [StackOverflow] SET ONLINE;\r\n",
                "GO\r\n",
                "USE StackOverflow;\r\n",
                "GO\r\n",
                "\r\n",
                "/* This plan is slightly different, it has a key lookup */\r\n",
                "SELECT TOP 10 Id, Location\r\n",
                "FROM dbo.Users\r\n",
                "ORDER BY LastAccessDate;\r\n",
                "GO\r\n",
                ""
            ],
            "metadata": {
                "azdata_cell_guid": "df74eccb-c8bb-4888-b9d8-ae8dd8f9694b"
            },
            "outputs": [],
            "execution_count": null
        },
        {
            "cell_type": "markdown",
            "source": [
                "<img src=\"C:\\Users\\hartleyg\\Desktop\\Training\\SQL Server\\Brent Ozar\\Mastering Index Tuning\\1.3.3.png\" width=600>\r\n",
                "\r\n",
                "The SQL query engine does the following:\r\n",
                "1. Do a table scan, finding the top 10 rows ordered by last access date\r\n",
                "2. For every row it finds, do a key lookup to retrieve Location (location not included in our index)\r\n",
                "\r\n",
                "Now we hover over the Key Lookup:\r\n",
                "\r\n",
                "<img src=\"C:\\Users\\hartleyg\\Desktop\\Training\\SQL Server\\Brent Ozar\\Mastering Index Tuning\\1.3.4.png\" width=500></img>\r\n",
                "\r\n",
                "Notice how the Number of Executions is 10. The plan only has the clustered index once, but we touched it 10 times. It's  clear that one of the DMV's shows the *number of plans* that got executed, the other shows the *number of times* the plan got executed (touchy feely)\r\n",
                "\r\n",
                "    An Aside - Also notice that it read 200 / 10 lines from the NC Index. Because an index page is so dense, and that read-ahead is enabled, SQL engine continue to read from the index even though we only want the top 10 rows, just in case it needs them. It will stop reading rows once query execution is complete.\r\n",
                "\r\n",
                "Now lets look back at the DMV's\r\n",
                "\r\n",
                "<img src=\"C:\\Users\\hartleyg\\Desktop\\Training\\SQL Server\\Brent Ozar\\Mastering Index Tuning\\1.3.5.png\" width=850></img>\r\n",
                "\r\n",
                "- For the non-clustered index, we only scanned it once (so they both agree)\r\n",
                "- Different story for the clustered index. Usage stats reports that it was only scanned once. However, the Operational Stats DMV ('touchy feely') said we did this 10 times\r\n",
                "\r\n",
                "\r\n",
                "In this case, op stats reports a higher value than the usage stats - however they are measuring different things, which is correct. But lets review a case where it doesn't quite show as we expect....\r\n",
                "\r\n",
                ""
            ],
            "metadata": {
                "azdata_cell_guid": "622844e7-a851-46d1-8a72-0c22a666ed5f"
            }
        },
        {
            "cell_type": "code",
            "source": [
                "\r\n",
                "/* This plan is slightly different, it has a key lookup - but it doesn't get executed. */\r\n",
                "SELECT TOP 10 Id, Location\r\n",
                "FROM dbo.Users\r\n",
                "WHERE LastAccessDate > GETDATE()\r\n",
                "ORDER BY LastAccessDate;\r\n",
                "GO\r\n",
                ""
            ],
            "metadata": {
                "azdata_cell_guid": "40c417c3-2a42-4a04-bc8e-230e9b9ed42a"
            },
            "outputs": [],
            "execution_count": null
        },
        {
            "cell_type": "markdown",
            "source": [
                "This one looks for all those with a last access date in the future, which we expect not to return anything. However, SQL server does not know this when it first builds the query plan, so it will do the following:\r\n",
                "\r\n",
                "1. Seek to the rows WHERE LastAccessDate > GETDATE()\r\n",
                "2. Do a Key Lookup for the rows it finds\r\n",
                "\r\n",
                "<img src=\"C:\\Users\\hartleyg\\Desktop\\Training\\SQL Server\\Brent Ozar\\Mastering Index Tuning\\1.3.6.png\" width=500></img>\r\n",
                "\r\n",
                "The Index Seek tells us that it executed the seek, but it didnt find any rows\r\n",
                "\r\n",
                "<img src=\"C:\\Users\\hartleyg\\Desktop\\Training\\SQL Server\\Brent Ozar\\Mastering Index Tuning\\1.3.6.png\" width=500></img>\r\n",
                "\r\n",
                "Therefore, it never had to do the Key Lookup (Number of executions = 0)\r\n",
                "\r\n",
                "<img src=\"C:\\Users\\hartleyg\\Desktop\\Training\\SQL Server\\Brent Ozar\\Mastering Index Tuning\\1.3.7.png\" width=850></img>\r\n",
                "\r\n",
                "Here's where the index DMV's diverge... Usage stats tells us we did a read against the index, but Op Stats tells us we never touched it?\r\n",
                "\r\n",
                "While they may not be the most reliable of measures, we're only looking to get a rough idea if our indexes are being used."
            ],
            "metadata": {
                "azdata_cell_guid": "e5d9c233-d4dd-478e-980b-eb55054695d2"
            }
        },
        {
            "cell_type": "markdown",
            "source": [
                "## Index DMV's - Takeaways\r\n",
                "\r\n",
                "DMV's don't tell you that:\r\n",
                "- \"Scan\" may not be the whole table (eg. Top X Selects)\r\n",
                "- \"Seek\" might actually be the whole table (eg. WHERE clause using index with sub-optimal key ordering for that query)\r\n",
                "\r\n",
                "sys.dm_db_index_usage_stats (Usage Stats)\r\n",
                "- Show # of times an operator appeared in the query plan that was run\r\n",
                "- The operateor may have been accessed many times, or not at all\r\n",
                "- Reset by system restart, or by index rebuild if on buggy versions\r\n",
                "\r\n",
                "sys.dm_db_index_operational_stats (Op Stats)\r\n",
                "- Show number of times an operator was accessed\r\n",
                "- Volatile, can be reset by memory pressure\r\n",
                "\r\n",
                "The goal is just to know... \"Are these indexes kinda getting used, or totally ignored?\""
            ],
            "metadata": {
                "azdata_cell_guid": "0861b635-5967-469a-a907-1e302288d69b"
            }
        },
        {
            "cell_type": "markdown",
            "source": [
                "<img src=\"C:\\Users\\hartleyg\\Desktop\\Training\\SQL Server\\Brent Ozar\\Mastering Index Tuning\\1.3.9.png\" width=850></img>\r\n",
                "\r\n",
                "In short, run from the higher, then zoom into each individual table. Prioritise by those that are generating the most noise, or causing users the most trouble\r\n",
                "\r\n",
                "<img src=\"C:\\Users\\hartleyg\\Desktop\\Training\\SQL Server\\Brent Ozar\\Mastering Index Tuning\\1.3.10.png\" width=850></img>\r\n",
                "\r\n",
                "<img src=\"C:\\Users\\hartleyg\\Desktop\\Training\\SQL Server\\Brent Ozar\\Mastering Index Tuning\\1.3.11.png\" width=850></img>\r\n",
                "\r\n",
                "## What we covered\r\n",
                "The two SQL Server index usage views:\r\n",
                "- Usage by plan: sys.dm_db_index_usage_stats\r\n",
                "- Usage by index: sys.dm_db_index_operational_stats\r\n",
                "\r\n",
                "Why they're not accurate as you might suspect:\r\n",
                "- Seek doesnt mean one row\r\n",
                "- Scan doesnt mean the whole table\r\n",
                "- Reads dont mean the index was actually read\r\n",
                "- 1 Write doesnt mean 1 row was updated\r\n",
                "- They even reset at unusual times"
            ],
            "metadata": {
                "azdata_cell_guid": "5e0f38de-30ae-4e59-9da5-7d33faa7046e"
            }
        }
    ]
}