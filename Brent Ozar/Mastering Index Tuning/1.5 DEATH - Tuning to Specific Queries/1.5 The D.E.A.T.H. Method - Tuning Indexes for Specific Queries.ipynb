{
    "metadata": {
        "kernelspec": {
            "name": "SQL",
            "display_name": "SQL",
            "language": "sql"
        },
        "language_info": {
            "name": "sql",
            "version": ""
        }
    },
    "nbformat_minor": 2,
    "nbformat": 4,
    "cells": [
        {
            "cell_type": "markdown",
            "source": [
                "# 1.5 The D.E.A.T.H. Method: Tuning Indexes for Specific Queries\r\n",
                "\r\n",
                "We covered the D.E. parts of the D.E.A.T.H. Method, and if we were going in order, we’d tackle the A part next: using Clippy’s index recommendations from the missing index DMVs. However, Clippy can be a little misleading, so just for the purpose of training, we’re going to tackle the T first: tuning indexes for these specific queries.</p>\r\n",
                "\r\n",
                "\r\n",
                "## Reminder - D.E.A.T.H Method\r\n",
                "<img src=\"C:\\Users\\hartleyg\\Desktop\\Training\\SQL Server\\Brent Ozar\\Mastering Index Tuning\\1.5 DEATH - Tuning to Specific Queries\\1.1.png\" width=700></img>\r\n",
                "\r\n",
                "**Dedupe & Eliminate** - Matter of hours of focused work\r\n",
                "\r\n",
                "**Adding indexes** - Weekly, requires more thought\r\n",
                "- Requires close examination of existing indexes\r\n",
                "- Thinking about key order, selectivity\r\n",
                "- Interpreting the ideas from SQL recommendations (don't take recommendation as gospel, but interpret the clues)\r\n",
                "\r\n",
                "\r\n",
                "**Tuning indexes for specific queries** - Even more involved effort, typically 1-4 hours **per query**\r\n",
                "- Finding the right queries to tune\r\n",
                "- Ongoing monitoring (make sure it gets used)\r\n",
                "- A/B testing for effectiveness\r\n",
                "- Tuning the query itself\r\n",
                "\r\n",
                "\r\n",
                "The following is an example using a query with only equality operators:"
            ],
            "metadata": {
                "azdata_cell_guid": "4bd97f40-5096-4f77-a005-4776273838f6"
            }
        },
        {
            "cell_type": "code",
            "source": [
                "/* Both Equality Searches - Order doesnt matter*/\r\n",
                "SELECT Id\r\n",
                "  FROM dbo.Users\r\n",
                "  WHERE DisplayName = 'Brent Ozar'\r\n",
                "  AND WebsiteUrl = 'https://www.brentozar.com';\r\n",
                "GO"
            ],
            "metadata": {
                "azdata_cell_guid": "523620e3-67e7-4ec0-bd3d-9b5dabf42281"
            },
            "outputs": [],
            "execution_count": null
        },
        {
            "cell_type": "markdown",
            "source": [
                "Note that because both filters are equality searches, the order doesn't matter for this query. \r\n",
                "\r\n",
                "However, lets run an example using inequality operators... "
            ],
            "metadata": {
                "azdata_cell_guid": "b74b3479-5fb8-4f25-b5a3-51dd762dff17"
            }
        },
        {
            "cell_type": "code",
            "source": [
                "/* Turn on actual plans (control-M) and: */\r\n",
                "SET STATISTICS IO, TIME ON;\r\n",
                "GO\r\n",
                "\r\n",
                "CREATE OR ALTER PROC [dbo].[usp_Q6925] @UserId INT AS\r\n",
                "BEGIN\r\n",
                "/* Source: http://data.stackexchange.com/stackoverflow/query/6925/newer-users-with-more-reputation-than-me */\r\n",
                " \r\n",
                "    SELECT u.Id as [User Link], u.Reputation, u.Reputation - me.Reputation as Difference\r\n",
                "    FROM dbo.Users me \r\n",
                "    INNER JOIN dbo.Users u \r\n",
                "        ON u.CreationDate > me.CreationDate\r\n",
                "        AND u.Reputation > me.Reputation\r\n",
                "    WHERE me.Id = @UserId\r\n",
                " \r\n",
                "END\r\n",
                "GO\r\n",
                "\r\n",
                "EXEC usp_Q6925 @UserId = 26837\r\n",
                "GO"
            ],
            "metadata": {
                "azdata_cell_guid": "5c01c18d-dff1-40cf-aae7-79992d31b865"
            },
            "outputs": [],
            "execution_count": null
        },
        {
            "cell_type": "markdown",
            "source": [
                "<img src=\"C:\\Users\\hartleyg\\Desktop\\Training\\SQL Server\\Brent Ozar\\Mastering Index Tuning\\1.5 DEATH - Tuning to Specific Queries\\1.3.png\" width=900></img>\r\n",
                "\r\n",
                "SQL Server starts with a Clustered Index Seek for the 'me' (PK_Users_Id) part of the join, directly finding the ID of the row that was specified.\r\n",
                "\r\n",
                "<img src=\"C:\\Users\\hartleyg\\Desktop\\Training\\SQL Server\\Brent Ozar\\Mastering Index Tuning\\1.5 DEATH - Tuning to Specific Queries\\1.4.png\" width=900></img>\r\n",
                "\r\n",
                "Now it scans the Users table, looking for everyone who has a higher Creation Date and higher Reputation than the specified user. \r\n",
                "\r\n",
                "The recommendation suggests that we add an index on CreationDate and Reputation to the Users table, but why is that? If we right-click the recommendation and scan the XML, we'll see the following:\r\n",
                "\r\n",
                "<img src=\"C:\\Users\\hartleyg\\Desktop\\Training\\SQL Server\\Brent Ozar\\Mastering Index Tuning\\1.5 DEATH - Tuning to Specific Queries\\1.5.png\" width = 500></img>\r\n",
                "\r\n",
                "The recommendation simply orders the key columns as they are in the table... which may or may not be right? For an equality search, this doesnt matter so much, but for an INEQUALITY search? Matters a lot...\r\n",
                "\r\n",
                "Now if we go with Clippy's recommendation:"
            ],
            "metadata": {
                "azdata_cell_guid": "47720cb0-3f37-45d1-83eb-b4edbf0c86b5"
            }
        },
        {
            "cell_type": "code",
            "source": [
                "-- Clippy's recommendation\r\n",
                "CREATE INDEX IX_CreationDate_Reputation ON dbo.Users(IX_CreationDate_Reputation);\r\n",
                ""
            ],
            "metadata": {
                "azdata_cell_guid": "5c6e7f45-0f3d-4478-b5bf-eae3d3f7efde"
            },
            "outputs": [],
            "execution_count": null
        },
        {
            "cell_type": "markdown",
            "source": [
                "We have the following outcomes:\r\n",
                "\r\n",
                "1. Logical Reads with no indexes:<br>\r\n",
                "<img src=\"C:\\Users\\hartleyg\\Desktop\\Training\\SQL Server\\Brent Ozar\\Mastering Index Tuning\\1.5 DEATH - Tuning to Specific Queries\\1.6.png\" width = 500></img>\r\n",
                "2. Query plan with IX_CreatedDate_Reputation<br>\r\n",
                "<img src=\"C:\\Users\\hartleyg\\Desktop\\Training\\SQL Server\\Brent Ozar\\Mastering Index Tuning\\1.5 DEATH - Tuning to Specific Queries\\1.7.png\" width = 700></img>\r\n",
                " <---- It's doing a scan on our index, which is great, but check out that chunky arrow! \r\n",
                "3. Number of rows read against our index<br>\r\n",
                "<img src=\"C:\\Users\\hartleyg\\Desktop\\Training\\SQL Server\\Brent Ozar\\Mastering Index Tuning\\1.5 DEATH - Tuning to Specific Queries\\1.8.png\" width = 300></img>\r\n",
                "4. Yikes, 8.9 mil reads from a 9mil table! That's quite a lot... No surprise the logical reads look like this:<br>\r\n",
                "<img src=\"C:\\Users\\hartleyg\\Desktop\\Training\\SQL Server\\Brent Ozar\\Mastering Index Tuning\\1.5 DEATH - Tuning to Specific Queries\\1.9.png\" width = 500></img>\r\n",
                "5. This is still a lot of logical reads, but we have reduced the number of reads compared to earlier. However, we can do better! Lets flip this ish!"
            ],
            "metadata": {
                "azdata_cell_guid": "35c8cd19-52f0-4bd1-88d3-92630020ea3f"
            }
        },
        {
            "cell_type": "code",
            "source": [
                "/* Joan Jett don't give a damn about her Reputation... but we do ;) */\r\n",
                "CREATE INDEX IX_Reputation_CreationDate ON dbo.Users(IX_CreationDate_Reputation)"
            ],
            "metadata": {
                "azdata_cell_guid": "71721deb-6d7b-4864-9faa-3d904ff4a2a7"
            },
            "outputs": [],
            "execution_count": null
        },
        {
            "cell_type": "markdown",
            "source": [
                "1. Lets run the query again, and inspect the query plan:<br>\r\n",
                "<img src=\"C:\\Users\\hartleyg\\Desktop\\Training\\SQL Server\\Brent Ozar\\Mastering Index Tuning\\1.5 DEATH - Tuning to Specific Queries\\1.10.png\" width = 800></img>\r\n",
                "2. It decided to use our query plan (note: sometimes it doesn't...). Well check out the logical reads on this bad boy! <br>\r\n",
                "<img src=\"C:\\Users\\hartleyg\\Desktop\\Training\\SQL Server\\Brent Ozar\\Mastering Index Tuning\\1.5 DEATH - Tuning to Specific Queries\\1.11.png\" width = 500></img>\r\n",
                "3. So why did it choose us over Clippy? Selectivity. In this instance, Reputation is the more selective of the two fields:"
            ],
            "metadata": {
                "azdata_cell_guid": "6be82487-3034-4f20-91ce-9ab774af95f0"
            }
        },
        {
            "cell_type": "code",
            "source": [
                "\r\n",
                "\r\n",
                "CREATE OR ALTER   PROC [dbo].[usp_PostsByCommentCount] @PostTypeId INT\r\n",
                "AS\r\n",
                "SELECT TOP 10 CommentCount, Score, ViewCount\r\n",
                "FROM dbo.Posts\r\n",
                "WHERE PostTypeId = @PostTypeId\r\n",
                "ORDER BY CommentCount DESC;\r\n",
                "GO\r\n",
                "\r\n",
                "CREATE OR ALTER   PROC [dbo].[usp_PostsByScore] @PostTypeId INT, @CommentCountMinimum INT\r\n",
                "AS\r\n",
                "SELECT TOP 10 Id, CommentCount, Score\r\n",
                "FROM dbo.Posts\r\n",
                "WHERE CommentCount >= @CommentCountMinimum\r\n",
                "AND PostTypeId = @PostTypeId\r\n",
                "ORDER BY Score DESC;\r\n",
                "GO\r\n",
                "\r\n",
                "/* Create one index to improve both of these: */\r\n",
                "EXEC usp_PostsByCommentCount @PostTypeId = 2;\r\n",
                "GO\r\n",
                "EXEC usp_PostsByScore @PostTypeId = 2, @CommentCountMinimum = 2;\r\n",
                "GO"
            ],
            "metadata": {
                "azdata_cell_guid": "a80fd90e-e8c7-4503-8bd4-23f690c64ce8"
            },
            "outputs": [],
            "execution_count": null
        }
    ]
}