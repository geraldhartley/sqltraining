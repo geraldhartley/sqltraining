{
    "metadata": {
        "kernelspec": {
            "name": "SQL",
            "display_name": "SQL",
            "language": "sql"
        },
        "language_info": {
            "name": "sql",
            "version": ""
        }
    },
    "nbformat_minor": 2,
    "nbformat": 4,
    "cells": [
        {
            "cell_type": "markdown",
            "source": [
                "# Lab 1.5\r\n",
                "\r\n",
                "### 1. Troubleshooting Index Query #1\r\n",
                "\r\n",
                ""
            ],
            "metadata": {
                "azdata_cell_guid": "674088c3-b427-4759-8b64-cffbf8eaff11"
            }
        },
        {
            "cell_type": "code",
            "source": [
                "SET ANSI_NULLS ON\r\n",
                "GO\r\n",
                "SET QUOTED_IDENTIFIER ON\r\n",
                "GO\r\n",
                "\r\n",
                "ALTER PROC [dbo].[usp_Q7521] @UserId INT AS\r\n",
                "BEGIN\r\n",
                "/* Source: http://data.stackexchange.com/stackoverflow/query/7521/how-unsung-am-i */\r\n",
                "\r\n",
                "-- How Unsung am I?\r\n",
                "-- Zero and non-zero accepted count. Self-accepted answers do not count.\r\n",
                "\r\n",
                "select\r\n",
                "    count(a.Id) as [Accepted Answers],\r\n",
                "    sum(case when a.Score = 0 then 0 else 1 end) as [Scored Answers],  \r\n",
                "    sum(case when a.Score = 0 then 1 else 0 end) as [Unscored Answers],\r\n",
                "    sum(CASE WHEN a.Score = 0 then 1 else 0 end)*1000 / count(a.Id) / 10.0 as [Percentage Unscored]\r\n",
                "from\r\n",
                "    Posts q\r\n",
                "  inner join\r\n",
                "    Posts a\r\n",
                "  on a.Id = q.AcceptedAnswerId\r\n",
                "where\r\n",
                "      a.CommunityOwnedDate is null\r\n",
                "  and a.OwnerUserId = @UserId\r\n",
                "  and q.OwnerUserId != @UserId\r\n",
                "  and a.PostTypeId = 2\r\n",
                "END\r\n",
                "GO\r\n",
                ""
            ],
            "metadata": {
                "azdata_cell_guid": "3754f448-944d-4178-bdc0-6164c9e4709d"
            },
            "outputs": [],
            "execution_count": null
        },
        {
            "cell_type": "markdown",
            "source": [
                "Brent introduces a strategy to identify the selectivity of a JOIN query by doing the following:\r\n",
                "\r\n",
                "1. Extract both tables into seperate SELECT statements, including the where clause against the relevant tables\r\n",
                "2. Add the JOIN condition to the WHERE clause, WHERE table.Id IN (Id's from Join Table)\r\n",
                "\r\n",
                "Unpacking the above query, we have:"
            ],
            "metadata": {
                "azdata_cell_guid": "e7153c06-381f-4590-825f-7d8c21373ba8"
            }
        },
        {
            "cell_type": "code",
            "source": [
                "-- Query A\r\n",
                "SELECT *\r\n",
                "FROM dbo.Posts a\r\n",
                "WHERE \r\n",
                "    a.CommunityOwnedDate IS NULL\r\n",
                "    AND a.OwnerUserID = @UserId\r\n",
                "    AND a.PostTypeId = 2\r\n",
                "    AND a.Id IN (...)\r\n",
                "\r\n",
                "-- Query B\r\n",
                "SELECT * \r\n",
                "FROM dbo.Posts q\r\n",
                "WHERE q.OwnerUserID = @UserId\r\n",
                "AND a.PostTypeId = 2"
            ],
            "metadata": {
                "azdata_cell_guid": "523f9426-b7bf-4dcb-9fd2-20366244a679"
            },
            "outputs": [],
            "execution_count": null
        },
        {
            "cell_type": "markdown",
            "source": [
                "Lets start with Query A and ask - How selective are the fields in the WHERE clause?\r\n",
                "\r\n",
                "We want to find which process is going to be executed first (ie. the one with the least overhead), and how much work that creates downstream."
            ],
            "metadata": {
                "azdata_cell_guid": "a1981bec-7df1-4c95-bb6a-649145c7d5ac"
            }
        },
        {
            "cell_type": "code",
            "source": [
                "-- Find COUNT for the hardcoded values\r\n",
                "SELECT COUNT(*) FROM dbo.Posts WHERE CommunityOwnedDate IS NULL; -- 40mil rows... Not very selective, lots of people match\r\n",
                "SELECT COUNT() FROM dbo.Posts WHERE PostTypeId = 2; -- 24mil rows... Neither is this\r\n",
                "\r\n",
                "-- Who are the users who own the most posts?\r\n",
                "SELECT TOP 100 OwnerUserID, COUNT(*) AS recs -- by itself, not very selective\r\n",
                "FROM dbo.Posts \r\n",
                "GROUP BY OwnerUserID\r\n",
                "ORDER BY COUNT(*) DESC;\r\n",
                ""
            ],
            "metadata": {
                "azdata_cell_guid": "74b8feb7-11ec-4ffa-a767-1953f8374b8e",
                "tags": []
            },
            "outputs": [],
            "execution_count": null
        },
        {
            "cell_type": "markdown",
            "source": [
                "Now we create Key on OwnerUserId and PostTypeId, doesn't matter what goes first\r\n",
                "\r\n",
                "We should create a covering index by including CommunityOwnedDate (WHERE clause), and Score (calculated field in SELECT). This saves SQL from having to go back to the table to lookup these rows.\r\n",
                ""
            ],
            "metadata": {
                "azdata_cell_guid": "6e9372fc-b313-4e1b-b85b-36dea8f710f9"
            }
        },
        {
            "cell_type": "code",
            "source": [
                "CREATE INDEX IX_OwnerUserId_PostTypeId_Includes (OwnerUserId, PostTypeId)\r\n",
                "ON dbo.Posts INCLUDE (CommunityOwnedDate, Score)"
            ],
            "metadata": {
                "azdata_cell_guid": "b93460fe-67bf-48e7-bda1-57c1f4727d89"
            },
            "outputs": [],
            "execution_count": null
        },
        {
            "cell_type": "markdown",
            "source": [
                "Now look at Query B, we have the following:"
            ],
            "metadata": {
                "azdata_cell_guid": "e85ba53c-c648-43a0-b855-e916792bad7d"
            }
        },
        {
            "cell_type": "code",
            "source": [
                "-- Query B\r\n",
                "SELECT * \r\n",
                "FROM dbo.Posts q\r\n",
                "WHERE q.OwnerUserID != @UserId\r\n",
                "AND q.AcceptedAnswerId IN (...)"
            ],
            "metadata": {
                "azdata_cell_guid": "372ccd23-f2a8-4821-95f2-39e26cf12b98"
            },
            "outputs": [],
            "execution_count": null
        },
        {
            "cell_type": "markdown",
            "source": [
                "We might think to put AcceptedAnswer in our key column due to its equality search, but hang on a sec...\r\n",
                "\r\n",
                "Look at the filter OwnerUserID. It's asking for everything that ISNT in UserId. If we were to add AcceptedAnswerId in our current Key, the ordering on that would be all sorts of messed up, and no where near optimal for this particular query.\r\n",
                "\r\n",
                "If we wanted to make this run optimally, make this work, we would need a **SEPERATE** index for AcceptedAnswerID\r\n",
                "\r\n",
                "> **So would we need to add OwnerUserId to the key?** <br>\r\n",
                ">  \r\n",
                ">* Start by creating both indexes, running the queries against each index (WITH INDEX hint). \r\n",
                ">* If there is a significant difference in reads or IO, AND the query is important enough to warrant optimal performance - then add the key.<br>\r\n",
                ">* If it's not much of a difference, leave it off. We may find another query later down the track that actually needs an ordering applied. If you do go an change the index later, just remember to keep an eye on the other query plans that use this index.\r\n",
                "\r\n",
                "Now continue this for as many missing indexes as we can (identified by BlitzCache) for the next 30 mins.\r\n",
                "\r\n",
                ""
            ],
            "metadata": {
                "azdata_cell_guid": "6c139c16-246b-4ca8-9f27-0378c41ddd35"
            }
        },
        {
            "cell_type": "markdown",
            "source": [
                "## Process so far...\r\n",
                "\r\n",
                "Note that at this stage:\r\n",
                "- We did NOT look at their execution plans\r\n",
                "- We did NOT look at existing indexes on the tables (does it make sense to merge)\r\n",
                "- We did NOT execute the queries to see their logical reads before / after (ie. parameter sniffing)\r\n",
                "- We did NOT compare the indexes\r\n",
                "- We did NOT the change afterwards to make sure the indexes got picked up\r\n",
                "\r\n",
                "Instead, we did the following:\r\n",
                "- Identified the queries that need help (blitz cache)\r\n",
                "- Decomposed the query\r\n",
                "- Scripted index based on what it needs\r\n",
                "\r\n",
                "Out in the wild, our 30 mins will be used up with the following process per query:\r\n",
                "1.  Find the query\r\n",
                "2. Run the query /w actual plans\r\n",
                "3. Hand craft the index design\r\n",
                "4. Create the index\r\n",
                "5. Execute the query to see if the new index works, monitor its metrics\r\n",
                "6. Compare other indexes that already exist, merge 'em\r\n",
                "\r\n",
                "> **Protip #1** - Use sp_who2 to find what index is currently building, plus the SPID to run in the index progress query\r\n",
                "> **Protip #2** - When comparing BlitzCache results, split the tab screens horizontally / vertically. Compare the Avg Reads columns of both result sets to ensure the new index has been picked up. \r\n",
                "\r\n",
                "## Questions\r\n",
                "\r\n",
                "Q: Is the proc cache cleared when you create a new index for that object?\r\n",
                "A: No, it doesnt always pick up new indexes. You'll need to run the sp_recompile command to free the proc cache against the object\r\n",
                "\r\n",
                "\r\n",
                "\r\n",
                ""
            ],
            "metadata": {
                "azdata_cell_guid": "c5b766ab-02f3-4153-a972-228bbf3de748"
            }
        }
    ]
}