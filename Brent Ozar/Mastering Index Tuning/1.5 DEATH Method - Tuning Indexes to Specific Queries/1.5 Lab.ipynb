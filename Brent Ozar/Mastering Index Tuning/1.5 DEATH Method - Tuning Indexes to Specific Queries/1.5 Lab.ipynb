{
    "metadata": {
        "kernelspec": {
            "name": "SQL",
            "display_name": "SQL",
            "language": "sql"
        },
        "language_info": {
            "name": "sql",
            "version": ""
        }
    },
    "nbformat_minor": 2,
    "nbformat": 4,
    "cells": [
        {
            "cell_type": "markdown",
            "source": [
                "# Lab 1.5\r\n",
                "\r\n",
                "### 1. Troubleshooting Index Query #1\r\n",
                "\r\n",
                ""
            ],
            "metadata": {
                "azdata_cell_guid": "674088c3-b427-4759-8b64-cffbf8eaff11"
            }
        },
        {
            "cell_type": "code",
            "source": [
                "SET ANSI_NULLS ON\r\n",
                "GO\r\n",
                "SET QUOTED_IDENTIFIER ON\r\n",
                "GO\r\n",
                "\r\n",
                "ALTER PROC [dbo].[usp_Q7521] @UserId INT AS\r\n",
                "BEGIN\r\n",
                "/* Source: http://data.stackexchange.com/stackoverflow/query/7521/how-unsung-am-i */\r\n",
                "\r\n",
                "-- How Unsung am I?\r\n",
                "-- Zero and non-zero accepted count. Self-accepted answers do not count.\r\n",
                "\r\n",
                "select\r\n",
                "    count(a.Id) as [Accepted Answers],\r\n",
                "    sum(case when a.Score = 0 then 0 else 1 end) as [Scored Answers],  \r\n",
                "    sum(case when a.Score = 0 then 1 else 0 end) as [Unscored Answers],\r\n",
                "    sum(CASE WHEN a.Score = 0 then 1 else 0 end)*1000 / count(a.Id) / 10.0 as [Percentage Unscored]\r\n",
                "from\r\n",
                "    Posts q\r\n",
                "  inner join\r\n",
                "    Posts a\r\n",
                "  on a.Id = q.AcceptedAnswerId\r\n",
                "where\r\n",
                "      a.CommunityOwnedDate is null\r\n",
                "  and a.OwnerUserId = @UserId\r\n",
                "  and q.OwnerUserId != @UserId\r\n",
                "  and a.PostTypeId = 2\r\n",
                "END\r\n",
                "GO\r\n",
                ""
            ],
            "metadata": {
                "azdata_cell_guid": "3754f448-944d-4178-bdc0-6164c9e4709d"
            },
            "outputs": [],
            "execution_count": null
        },
        {
            "cell_type": "markdown",
            "source": [
                "Brent introduces a strategy to identify the selectivity of a JOIN query by doing the following:\r\n",
                "\r\n",
                "1. Extract both tables into seperate SELECT statements, including the where clause against the relevant tables\r\n",
                "2. Add the JOIN condition to the WHERE clause, WHERE table.Id IN (Id's from Join Table)\r\n",
                "\r\n",
                "Unpacking the above query, we have:"
            ],
            "metadata": {
                "azdata_cell_guid": "e7153c06-381f-4590-825f-7d8c21373ba8"
            }
        },
        {
            "cell_type": "code",
            "source": [
                "SELECT * \r\n",
                "FROM dbo.Posts q\r\n",
                "WHERE q.OwnerUserID = @UserId\r\n",
                "AND a.PostTypeId = 2\r\n",
                "\r\n",
                "SELECT *\r\n",
                "FROM dbo.Posts a\r\n",
                "WHERE \r\n",
                "    a.CommunityOwnedDate IS NULL\r\n",
                "    AND a.OwnerUserID = @UserId\r\n",
                "    AND a.PostTypeId = 2\r\n",
                "    AND a.Id IN (...)"
            ],
            "metadata": {
                "azdata_cell_guid": "523f9426-b7bf-4dcb-9fd2-20366244a679"
            },
            "outputs": [],
            "execution_count": null
        },
        {
            "cell_type": "markdown",
            "source": [
                "Next question: how selective are the fields in the WHERE clause?\r\n",
                "\r\n",
                "We want to find which process is going to be executed first (ie. the one with the least overhead), and how much work that creates downstream."
            ],
            "metadata": {
                "azdata_cell_guid": "a1981bec-7df1-4c95-bb6a-649145c7d5ac"
            }
        },
        {
            "cell_type": "code",
            "source": [
                "-- Find COUNT for the hardcoded values\r\n",
                "SELECT COUNT(*) FROM dbo.Posts WHERE CommunityOwnedDate IS NULL;\r\n",
                "SELECT COUNT() FROM dbo.Posts WHERE PostTypeId = 2;\r\n",
                "\r\n",
                "-- Who are the users who own the most posts?\r\n",
                "SELECT TOP 100 OwnerUserID, COUNT(*) AS recs\r\n",
                "FROM dbo.Posts \r\n",
                "GROUP BY OwnerUserID\r\n",
                "ORDER BY COUNT(*) DESC;\r\n",
                "\r\n",
                ""
            ],
            "metadata": {
                "azdata_cell_guid": "74b8feb7-11ec-4ffa-a767-1953f8374b8e",
                "tags": []
            },
            "outputs": [],
            "execution_count": null
        }
    ]
}