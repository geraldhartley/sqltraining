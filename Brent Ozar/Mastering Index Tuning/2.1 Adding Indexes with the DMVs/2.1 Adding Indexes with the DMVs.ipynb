{
    "metadata": {
        "kernelspec": {
            "name": "SQL",
            "display_name": "SQL",
            "language": "sql"
        },
        "language_info": {
            "name": "sql",
            "version": ""
        }
    },
    "nbformat_minor": 2,
    "nbformat": 4,
    "cells": [
        {
            "cell_type": "markdown",
            "source": [
                "# 2.1 Adding Indexes with the DMVs\r\n",
                "\r\n",
                "### The 'A' part relies on Clippy\r\n",
                "\r\n",
                "What are clippy's sources?\r\n",
                "- sys.dm_db_missing_index_details\r\n",
                "- Query plans and the plan cache\r\n",
                "\r\n",
                "He doesn't care about\r\n",
                "- The size of the index\r\n",
                "- The index's overhead on D / U / I operations\r\n",
                "- Your other existing indexes\r\n",
                "- A lot of operations in the plan (GROUP BY)\r\n",
                "\r\n",
                "Clippys ordering\r\n",
                "1. Equality searches in the query (ordered by field order of the table)\r\n",
                "2. Inequality searches (ordered by field order in table)\r\n",
                "3. Includes (might need to be sorted)\r\n",
                "\r\n",
                "**Activity #1** Produce a query which returns a missing index recommendation which uses (DisplayName, Location)\r\n",
                "\r\n",
                ""
            ],
            "metadata": {
                "azdata_cell_guid": "ebb99340-1e71-437e-88eb-d1a068acb635"
            }
        },
        {
            "cell_type": "code",
            "source": [
                "-- My answer, using a pair of equality searches\r\n",
                "SELECT DisplayName, Location\r\n",
                "FROM dbo.Users\r\n",
                "WHERE Location LIKE 'Adam%'\r\n",
                "AND DisplayName IN ('Seattle%')\r\n",
                "\r\n",
                "-- Another answer, using an equality and inequality search\r\n",
                "SELECT * \r\n",
                "FROM dbo.Users \r\n",
                "WHERE DisplayName = 'asdf' \r\n",
                "AND Location <> 'New Zealand'\r\n",
                "\r\n",
                "-- Brent's queries\r\n",
                "\r\n",
                "SELECT Id\r\n",
                "FROM dbo.Users\r\n",
                "WHERE DisplayName > 'Brent Ozar'\r\n",
                "AND Location IS NOT NULL;\r\n",
                "\r\n",
                "SELECT Id\r\n",
                "FROM dbo.Users\r\n",
                "WHERE DisplayName = 'Alex'\r\n",
                "AND Location = 'India'\r\n",
                "ORDER BY Reputation"
            ],
            "metadata": {
                "azdata_cell_guid": "5775680a-990e-4f91-b693-66304888534b"
            },
            "outputs": [],
            "execution_count": null
        },
        {
            "cell_type": "markdown",
            "source": [
                "- Note: Clippy generally doesnt care about the GROUP BY or ORDER BY... except when it does (ie. it depends...)\r\n",
                "\r\n",
                "**Activity #2:** Produce a query which generates an EQUALITY search on Location, and an INEQUALITY search on DisplayName, and INCLUDES all the columns"
            ],
            "metadata": {
                "azdata_cell_guid": "1d21d6b7-3163-4dc8-84f9-bedccdd0182c"
            }
        },
        {
            "cell_type": "code",
            "source": [
                "/* My / Brents query */ \r\n",
                "SELECT TOP 100 *\r\n",
                "FROM dbo.Users\r\n",
                "WHERE Location = 'Seattle, WA'\r\n",
                "AND DisplayName <> '%Brent Ozar%'\r\n",
                ""
            ],
            "metadata": {
                "azdata_cell_guid": "8a1a9da4-4ed1-4d93-b427-9d0c4a77bb13"
            },
            "outputs": [],
            "execution_count": null
        },
        {
            "cell_type": "markdown",
            "source": [
                "**Activity #3** - Produce a query that generates a recommendation that contains DisplayName, but just INCLUDE's location"
            ],
            "metadata": {
                "azdata_cell_guid": "6f3b895b-45e5-4dd5-99fd-826f75933175"
            }
        },
        {
            "cell_type": "code",
            "source": [
                "SELECT TOP 100 Location\r\n",
                "FROM dbo.Users\r\n",
                "WHERE DisplayName <> '%Brent Ozar%'\r\n",
                "ORDER BY Location"
            ],
            "metadata": {
                "azdata_cell_guid": "91a207b4-c009-4879-aed3-00716c42e17a"
            },
            "outputs": [],
            "execution_count": null
        },
        {
            "cell_type": "markdown",
            "source": [
                "**Activity #4** Find an index that covers BOTH of the following missing index requests:"
            ],
            "metadata": {
                "azdata_cell_guid": "f0df1f5a-d0d9-43f5-8725-45a9a475ce2e"
            }
        },
        {
            "cell_type": "code",
            "source": [
                "-- CREATE NONCLUSTED INDEX [Name] ON [dbo].[Users] (LastAccessDate, WebsiteUrl)\r\n",
                "\r\n",
                "-- CREATE NONCLUSTED INDEX [Name] ON [dbo].[Users] (DownVotes, WebsiteUrl)"
            ],
            "metadata": {
                "azdata_cell_guid": "821cbe29-e435-4984-966f-fc46d0719d18"
            },
            "outputs": [],
            "execution_count": null
        },
        {
            "cell_type": "markdown",
            "source": [
                "Note that the missing index recommendations include the following XML:\r\n",
                "\r\n",
                "<img src=\"C:\\Users\\hartleyg\\Desktop\\Training\\sqltraining\\Brent Ozar\\Mastering Index Tuning\\2.1 Adding Indexes with the DMVs\\2.1.01.png\" width=400>\r\n",
                "\r\n",
                "**Ask:**\r\n",
                "1. What queries might have built these hints?\r\n",
                "2. Can one index satisfy both queries? Why?\r\n",
                "\r\n",
                "Since the XML shows that these are both EQUALITY searches, recall that that ordering doesnt matter. Therefore the following index will cover both queries:"
            ],
            "metadata": {
                "azdata_cell_guid": "e086f07e-417d-4058-941e-9ae52553aa62"
            }
        },
        {
            "cell_type": "code",
            "source": [
                "CREATE INDEX WebsiteUrl_LastAccessDate_DownVotes\r\n",
                "    ON dbo.Users(WebsiteUrl, LastAccessDate, DownVotes);"
            ],
            "metadata": {
                "azdata_cell_guid": "34e10528-4cf7-48e4-8975-0f3dfc28507b"
            },
            "outputs": [],
            "execution_count": null
        },
        {
            "cell_type": "markdown",
            "source": [
                "While this Index improves performance on both queries, it doesn't provide the best possible performance for each individual query.\r\n",
                "\r\n",
                "If we were to change the key ordering to suit the key order of one particular query, we would expect poor performance with the other query. \r\n",
                "\r\n",
                "However, it will opt to use this index as this provides the smallest copy of the table that contains the fields that it requires. <br>\r\n",
                "\r\n",
                "## Our job with index tuning\r\n",
                "\r\n",
                "Look at the recommended indexes by:\r\n",
                "- Equality fields\r\n",
                "- Inequality fields\r\n",
                "- Includes (which sometimes need to be promoted)\r\n",
                "\r\n",
                "Look for things they have in common\r\n",
                "\r\n",
                "Make guess based on our exprience with the queries and the data\r\n",
                "\r\n",
                "> By the time you reach the 'T' part of optimisation, you should start to know the data a lot better\r\n",
                "\r\n",
                "Revisit it later in the T part of D.E.A.T.H\r\n",
                "\r\n",
                "## Field ordering guidelines (not rules)\r\n",
                "\r\n",
                "Fields you use the most often should go first\r\n",
                "\r\n",
                "When doing range scans, selectivity matters\r\n",
                "\r\n",
                "Comprimise involves:\r\n",
                "- Prioritizing reads vs writes\r\n",
                "- Prioritizing which queries need to be faster\r\n",
                "- Caching data in the application\r\n",
                "- Spending more money on hardware\r\n",
                "\r\n",
                ""
            ],
            "metadata": {
                "azdata_cell_guid": "f5559329-36d1-4eda-9473-f666560731e2"
            }
        }
    ]
}