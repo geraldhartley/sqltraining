{
    "metadata": {
        "kernelspec": {
            "name": "SQL",
            "display_name": "SQL",
            "language": "sql"
        },
        "language_info": {
            "name": "sql",
            "version": ""
        }
    },
    "nbformat_minor": 2,
    "nbformat": 4,
    "cells": [
        {
            "cell_type": "markdown",
            "source": [
                "# 2.2 Tuning to Avoid Key Lookups and Residual Predicates (10m)\r\n",
                "\r\n",
                "sp_BlitzCache’s warning about Expensive Key Lookups has a few different possible solutions:\r\n",
                "\r\n",
                "- Look for predicates on the lookup for surefire things to add to the nonclustered index\r\n",
                "- Look for output fields to consider, but maybe not add\r\n",
                "- Or just live with the key lookups when they’re big fields, or not a lot of rows\r\n",
                "\r\n",
                "## Questions\r\n",
                "- What is a key lookup?\r\n",
                "- How do we mitigate key lookups?\r\n",
                "    - Select fewer fields\r\n",
                "    - Add more fields to the nonclustered index\r\n",
                "- What is a residual predicate? Why is eliminating them so important?\r\n",
                "\r\n",
                "## From How to Think Like the Engine\r\n",
                ""
            ],
            "metadata": {
                "azdata_cell_guid": "6c6253a7-4816-4e48-9d95-535be412e02e"
            }
        },
        {
            "cell_type": "code",
            "source": [
                "CREATE INDEX IX_LastAccessDate_Id\r\n",
                "ON dbo.Users (LastAccessDate, Id);\r\n",
                "\r\n",
                "\r\n",
                "-- Build the query plan for this\r\n",
                "SELECT *\r\n",
                "FROM dbo.Users\r\n",
                "WHERE LastAccessDate >= '2011/11/10'\r\n",
                "AND LastAccessDate <= '2011/11/11'"
            ],
            "metadata": {
                "azdata_cell_guid": "2be3ed68-84d0-46ec-8263-280f33d8e1c0"
            },
            "outputs": [],
            "execution_count": null
        },
        {
            "cell_type": "markdown",
            "source": [
                "Since we have a tight range, SQL will do a key lookup for every row we found:\r\n",
                "\r\n",
                "<img src='C:\\Users\\hartleyg\\Desktop\\Training\\sqltraining\\Brent Ozar\\Mastering Index Tuning\\2.2 Tuning to Avoid Key Lookups and Residual Predicates\\2.2.01.png'>\r\n",
                "\r\n",
                "The more rows SQL finds, the more executions SQL has to do to get the results for SELECT *:\r\n",
                "<img src='C:\\Users\\hartleyg\\Desktop\\Training\\sqltraining\\Brent Ozar\\Mastering Index Tuning\\2.2 Tuning to Avoid Key Lookups and Residual Predicates\\2.2.02.png'>\r\n",
                "\r\n",
                "## What is a key lookup?\r\n",
                "\r\n",
                "- The optimizer made a choice (for better or worse):\r\n",
                "    - It used a NC index to make a query more efficient...\r\n",
                "    - But it didn't have all the columns the query neededed\r\n",
                "    > These could be missing columns in the SELECT list, or missing other predicates / JOIN conditions <br>\r\n",
                "    > Or, it wasn't a 'covering' index\r\n",
                "- The problem with Key lookups\r\n",
                "    - They introduce a lot of random I/O\r\n",
                "    - They run in a nested loops join, which turns into a problem if a lot of rows are needed\r\n",
                "\r\n",
                "## Behind the secnes\r\n",
                "\r\n",
                "SQL start grabbing rows from the NC Index\r\n",
                "\r\n",
                "- CX key columns are part of every NC index - another reason why CX key column choice is important\r\n",
                "- They get used to join one index to another\r\n",
                "    - If the CX isn't unique, uniquifiers get involved\r\n",
                "    - If the table is a HEAP, RIDS *(RowId's)* are used instead\r\n",
                "\r\n",
                "In a cooking analogy, the Clustered Index is the equivalent to the Grocery Store - if we don't have the ingredients (fields) on hand (NCI), we make a trip (key lookup) to the store (CDX)\r\n",
                "\r\n",
                "\r\n",
                "## The Catch: 1 Row At a Time\r\n",
                "\r\n",
                "However, Key Lookups work 1 row at a time! Imagine buying a bag of chips, but making multiple trips to the store, buying 1 chip at a time...\r\n",
                "\r\n",
                "For every row that comes out of the NC index:\r\n",
                "1. Goes to the CDX\r\n",
                "2. Locates the row based on the CDX key column(s)\r\n",
                "3. Gets the additional columns needed for the query\r\n",
                "\r\n",
                "And repeat the process for EACH row!!\r\n",
                "\r\n",
                "## When it makes sense\r\n",
                "\r\n",
                "If you don't have 'too many' rows (eg. under 1000 or so), they're not so bad. The more rows they need to fetch, the worse it gets\r\n",
                "\r\n",
                "There are tipping points:\r\n",
                "\r\n",
                "- SQL is lazy, and if it things a lot of rows will come back, it will opt to scan the CDX instead\r\n",
                "- In rare circumstances, *index intersection* may occur:\r\n",
                "    - This is when SQL joins two NC indexes together\r\n",
                "    - Uses the CX key columns, which are present in both\r\n",
                "\r\n",
                "In our case, our date range was selective. However, if we expand the date range:\r\n",
                ""
            ],
            "metadata": {
                "azdata_cell_guid": "94e96ce6-6e00-4cf8-b31f-a858ca4a60c4"
            }
        },
        {
            "cell_type": "code",
            "source": [
                "SELECT *\r\n",
                "FROM dbo.Users -- WITH (INDEX = IX_LastAccessDate_Id)\r\n",
                "WHERE LastAccessDate >= '2011/01/01'\r\n",
                "AND LastAccessDate <= '2011/12/31'\r\n",
                ""
            ],
            "metadata": {
                "azdata_cell_guid": "c7b07d5d-e68c-4fe6-804a-26696c90184b",
                "tags": []
            },
            "outputs": [],
            "execution_count": null
        },
        {
            "cell_type": "markdown",
            "source": [
                "... it doesn't make sense to do so many key lookups when we expect the query to return a lot of rows \r\n",
                "\r\n",
                "## Force the index\r\n",
                "\r\n",
                "We can choose to force using the index hint, but then SQL server has to execute this key lookup each time. As we can see, it has to end up reading more pages than there are in the table:\r\n",
                "\r\n",
                "<img src='C:\\Users\\hartleyg\\Desktop\\Training\\sqltraining\\Brent Ozar\\Mastering Index Tuning\\2.2 Tuning to Avoid Key Lookups and Residual Predicates\\2.2.03.png'>\r\n",
                "\r\n",
                "SQL Server automatically decides when a clustered index scan is more efficient, and it's not always right about that either.\r\n",
                "\r\n",
                "## Identifying Expensive Key Lookups\r\n",
                "\r\n",
                "### sp_BlitzCache will warn you\r\n",
                "\r\n",
                "About this any many other things:\r\n",
                "\r\n",
                "<img src='C:\\Users\\hartleyg\\Desktop\\Training\\sqltraining\\Brent Ozar\\Mastering Index Tuning\\2.2 Tuning to Avoid Key Lookups and Residual Predicates\\2.2.04.png'>\r\n",
                "\r\n",
                "Note the number of executions! Quite a lot!\r\n",
                "\r\n",
                "<img src='C:\\Users\\hartleyg\\Desktop\\Training\\sqltraining\\Brent Ozar\\Mastering Index Tuning\\2.2 Tuning to Avoid Key Lookups and Residual Predicates\\2.2.05.png' width=500>\r\n",
                "\r\n",
                "### 2 Options to fix Key Lookup\r\n",
                "\r\n",
                "1. Select less fields (less likely...)\r\n",
                "2. Add fields to the nonclustered index (especially if they're residual predicates)\r\n",
                "\r\n",
                "### Residual Predicate\r\n",
                "\r\n",
                "Looking back to our one-day query:"
            ],
            "metadata": {
                "azdata_cell_guid": "b3330be8-ee72-49ca-bfff-4eb3560e0ad1"
            }
        },
        {
            "cell_type": "code",
            "source": [
                "SELECT *\r\n",
                "FROM dbo.Users -- WITH (INDEX = IX_LastAccessDate_Id)\r\n",
                "WHERE LastAccessDate >= '2011/01/01'\r\n",
                "AND LastAccessDate <= '2011/12/31'"
            ],
            "metadata": {
                "azdata_cell_guid": "c08579cb-6160-4037-b756-e5f9195e6df8"
            },
            "outputs": [],
            "execution_count": null
        },
        {
            "cell_type": "markdown",
            "source": [
                "<img src='C:\\Users\\hartleyg\\Desktop\\Training\\sqltraining\\Brent Ozar\\Mastering Index Tuning\\2.2 Tuning to Avoid Key Lookups and Residual Predicates\\2.2.06.png' width=500>\r\n",
                "\r\n",
                "So what happens if we add a fields to the WHERE clause...\r\n",
                "\r\n",
                "<img src='C:\\Users\\hartleyg\\Desktop\\Training\\sqltraining\\Brent Ozar\\Mastering Index Tuning\\2.2 Tuning to Avoid Key Lookups and Residual Predicates\\2.2.07.png' width=500>\r\n",
                "\r\n",
                "Our query is now looking for a field that doesn't exist in the index, so we have to do a key lookup to check it. This is known as a **Residual Predicate**, and will appear under the 'Predicate' section of the Key Lookup. \r\n",
                "\r\n",
                "<img src='C:\\Users\\hartleyg\\Desktop\\Training\\sqltraining\\Brent Ozar\\Mastering Index Tuning\\2.2 Tuning to Avoid Key Lookups and Residual Predicates\\2.2.08.png' width=300>\r\n",
                "\r\n",
                "This is different from the Seek Predicate, which occurs when the field we're searching exists in the index\r\n",
                "\r\n",
                "### Fixing residual predicates\r\n",
                "\r\n",
                "- Add them to the non-clustered index\r\n",
                "- We can check during the fast nonclustered index operation\r\n",
                "- We can cut down on the number of key lookups performed (or eliminate em)\r\n",
                "\r\n",
                "### Why it's good to fix them\r\n",
                "\r\n",
                "Makes your code less senstive to parameter sniffing:\r\n",
                "- If a 'small' query runs first and gets cached, the key lookup plan may make sense\r\n",
                "- If a 'large' query runs second, it will use the cached plan of the small query (ie. from 100 key looksup to 100k)\r\n",
                "- With the right covering index for the query, it doesnt matter which one runs first\r\n",
                "    - Plan shape wont change as if we can eliminate key lookups\r\n",
                "    - May be other differences, like parallelism or join types\r\n",
                "\r\n",
                "## Recap\r\n",
                "\r\n",
                "- sp_BlitzCache warns about expensive key lookups\r\n",
                "- Most easy to fix by adding columns to an index\r\n",
                "- Really long output lists may not be worth covering\r\n",
                "- Residual predicates? Move those fields to the index\r\n",
                "> Note: Even adding as an INCLUDES column will be sufficient!\r\n",
                "- If several predicate lookups are involved, it might be better to add the exact covering index from scratch\r\n",
                "\r\n",
                ""
            ],
            "metadata": {
                "azdata_cell_guid": "08f760df-4fd5-42ec-b994-c45db853517a"
            }
        }
    ]
}